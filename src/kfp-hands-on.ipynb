{
 "cells": [
  {
   "cell_type": "code",
   "execution_count": 1,
   "id": "1a492caf-a4ac-4e34-a4ea-530e30152bd6",
   "metadata": {
    "tags": []
   },
   "outputs": [],
   "source": [
    "from kfp import dsl\n",
    "from kfp.dsl import (Artifact,\n",
    "                        Dataset,\n",
    "                        Input,\n",
    "                        Model,\n",
    "                        Output,\n",
    "                        Metrics,\n",
    "                        ClassificationMetrics,\n",
    "                        component)\n",
    "\n",
    "from kfp import compiler"
   ]
  },
  {
   "cell_type": "markdown",
   "id": "1bcb4bc2-faf2-4378-98ac-04fe1eddb5c4",
   "metadata": {
    "tags": []
   },
   "source": [
    "# Workload Test"
   ]
  },
  {
   "cell_type": "code",
   "execution_count": 2,
   "id": "43aa855c",
   "metadata": {},
   "outputs": [],
   "source": [
    "# Configuration\n",
    "dir_dataset=\"../raw_data\"\n",
    "dir_model=\"../models\"\n",
    "dir_evaluation=\"../evaluation\"\n",
    "dir_compiled_pipeline=\"../compiled-pipeline\"\n",
    "file_train_data=\"train_breast_cancer.csv\"\n",
    "file_test_data=\"test_breast_cancer.csv\"\n",
    "file_model=\"model_xgboost_breast_cancer.bst\"\n",
    "file_compiled_pipeline=\"pipeline_xgboost_breast_cancer.json\"\n",
    "file_pipeline_name=\"pipeline_xgboost_breast_cancer-handson\"\n",
    "config_pipeline_root=\"gs://storied-bearing-407115-bucket\""
   ]
  },
  {
   "cell_type": "code",
   "execution_count": 3,
   "id": "96d4ec23-e66f-4fe0-a083-5f89cfbfe823",
   "metadata": {
    "tags": []
   },
   "outputs": [],
   "source": [
    "# Data Extraction\n",
    "from sklearn import datasets\n",
    "from sklearn.model_selection import train_test_split as tts\n",
    "import pandas as pd\n",
    "\n",
    "data_raw = datasets.load_breast_cancer()\n",
    "data = pd.DataFrame(data_raw.data, columns=data_raw.feature_names)\n",
    "data[\"target\"] = data_raw.target\n",
    "\n",
    "train, test = tts(data, test_size=0.3)\n",
    "train.to_csv(dir_dataset+\"/\"+file_train_data)\n",
    "test.to_csv(dir_dataset+\"/\"+file_test_data)"
   ]
  },
  {
   "cell_type": "code",
   "execution_count": 4,
   "id": "a871700f-b89e-4af5-8412-a33e4a9d1992",
   "metadata": {
    "tags": []
   },
   "outputs": [
    {
     "name": "stderr",
     "output_type": "stream",
     "text": [
      "/opt/homebrew/Caskroom/miniforge/base/envs/kfp-compiler/lib/python3.10/site-packages/xgboost/core.py:160: UserWarning: [17:52:50] WARNING: /Users/runner/work/xgboost/xgboost/src/c_api/c_api.cc:1240: Saving into deprecated binary model format, please consider using `json` or `ubj`. Model format will default to JSON in XGBoost 2.2 if not specified.\n",
      "  warnings.warn(smsg, UserWarning)\n"
     ]
    }
   ],
   "source": [
    "# Model Training\n",
    "\n",
    "from xgboost import XGBClassifier\n",
    "import pandas as pd\n",
    "\n",
    "data = pd.read_csv(dir_dataset+\"/\"+file_train_data)\n",
    "\n",
    "model = XGBClassifier(\n",
    "    objective=\"binary:logistic\"\n",
    ")\n",
    "model.fit(\n",
    "    data.drop(columns=[\"target\"]),\n",
    "    data.target,\n",
    ")\n",
    "\n",
    "score = model.score(\n",
    "    data.drop(columns=[\"target\"]),\n",
    "    data.target,\n",
    ")\n",
    "\n",
    "model.save_model(dir_model+\"/\"+file_model)"
   ]
  },
  {
   "cell_type": "code",
   "execution_count": 5,
   "id": "4ef4e576-2cc4-44b5-9566-3b31a4a0464b",
   "metadata": {
    "tags": []
   },
   "outputs": [
    {
     "name": "stdout",
     "output_type": "stream",
     "text": [
      "Model Accuracy: 0.9707602339181286\n"
     ]
    },
    {
     "data": {
      "image/png": "[encoded data removed]",
      "text/plain": [
       "<Figure size 640x480 with 2 Axes>"
      ]
     },
     "metadata": {},
     "output_type": "display_data"
    }
   ],
   "source": [
    "# Model Evaluation\n",
    "from xgboost import XGBClassifier\n",
    "import pandas as pd\n",
    "import xgboost as xgb\n",
    "from sklearn.datasets import load_breast_cancer\n",
    "from sklearn.model_selection import train_test_split\n",
    "from sklearn.metrics import confusion_matrix, classification_report\n",
    "import matplotlib.pyplot as plt\n",
    "import seaborn as sns\n",
    "\n",
    "data = pd.read_csv(dir_dataset+\"/\"+file_test_data)\n",
    "model = XGBClassifier()\n",
    "model.load_model(dir_model+\"/\"+file_model)\n",
    "\n",
    "\n",
    "# Calculate the accuracy\n",
    "accuracy = model.score(\n",
    "    data.drop(columns=[\"target\"]),\n",
    "    data.target,\n",
    ")\n",
    "\n",
    "# Print the accuracy\n",
    "print(f\"Model Accuracy: {accuracy}\")\n",
    "\n",
    "# Confusion Matrix 생성\n",
    "predictions = model.predict(data.drop(columns=[\"target\"]))\n",
    "cm = confusion_matrix(test.target, predictions)\n",
    "sns.heatmap(cm, annot=True, fmt='g')\n",
    "plt.xlabel('Predicted')\n",
    "plt.ylabel('True Label')\n",
    "plt.title('Confusion Matrix')\n",
    "plt.show()\n",
    "plt.savefig(dir_evaluation+\"/\"+\"confusion_matrix.png\")\n",
    "\n",
    "# # Feature Importance 추출\n",
    "# feature_importances = model.feature_importances_\n",
    "# feature_names = (list(data.columns))[1:-1]\n",
    "\n",
    "# # 시각화\n",
    "# plt.barh(range(len(feature_importances)), feature_importances)\n",
    "# plt.yticks(range(len(feature_names)), feature_names)\n",
    "# plt.xlabel('Feature Importance')\n",
    "# plt.title('Feature Importance')\n",
    "# plt.show()"
   ]
  },
  {
   "cell_type": "markdown",
   "id": "995b5662",
   "metadata": {},
   "source": [
    "# Pipeline Components"
   ]
  },
  {
   "cell_type": "markdown",
   "id": "a711b7cf-3c0e-43c5-9f20-4f009cee06f6",
   "metadata": {
    "tags": []
   },
   "source": [
    "## Data Extraction"
   ]
  },
  {
   "cell_type": "code",
   "execution_count": 6,
   "id": "de51242c-d9f6-4cea-9ee1-fbafbb2573c7",
   "metadata": {
    "tags": []
   },
   "outputs": [],
   "source": [
    "@component(\n",
    "    packages_to_install = [\n",
    "        \"pandas\",\n",
    "        \"scikit-learn\"\n",
    "    ],\n",
    "    base_image=\"python:3.9.18-slim\"\n",
    ")\n",
    "def get_data(\n",
    "    dataset_train: Output[Dataset],\n",
    "    dataset_test: Output[Dataset]\n",
    "    \n",
    "):\n",
    "    \n",
    "    from sklearn import datasets\n",
    "    from sklearn.model_selection import train_test_split as tts\n",
    "    import pandas as pd\n",
    "    # import some data to play with\n",
    "    \n",
    "    data_raw = datasets.load_breast_cancer()\n",
    "    data = pd.DataFrame(data_raw.data, columns=data_raw.feature_names)\n",
    "    data[\"target\"] = data_raw.target\n",
    "    \n",
    "    train, test = tts(data, test_size=0.3)\n",
    "    \n",
    "    train.to_csv(dataset_train.path)\n",
    "    test.to_csv(dataset_test.path)"
   ]
  },
  {
   "cell_type": "markdown",
   "id": "8776ff9c-086c-4e78-b9bd-d232015b2e99",
   "metadata": {
    "tags": []
   },
   "source": [
    "## Model Training"
   ]
  },
  {
   "cell_type": "code",
   "execution_count": 7,
   "id": "11deb2b2-17df-467c-9779-72bac9ee44de",
   "metadata": {
    "tags": []
   },
   "outputs": [],
   "source": [
    "@component(\n",
    "    packages_to_install = [\n",
    "        \"pandas\",\n",
    "        \"scikit-learn\",\n",
    "        \"xgboost\"\n",
    "    ],\n",
    "    base_image=\"python:3.9.18-slim\"\n",
    ")\n",
    "def train_xgb_model(\n",
    "    dataset: Input[Dataset],\n",
    "    model_artifact: Output[Model]\n",
    "):\n",
    "    \n",
    "    from xgboost import XGBClassifier\n",
    "    import pandas as pd\n",
    "    \n",
    "    data = pd.read_csv(dataset.path)\n",
    "\n",
    "    model = XGBClassifier(\n",
    "        objective=\"binary:logistic\"\n",
    "    )\n",
    "    model.fit(\n",
    "        data.drop(columns=[\"target\"]),\n",
    "        data.target,\n",
    "    )\n",
    "\n",
    "    score = model.score(\n",
    "        data.drop(columns=[\"target\"]),\n",
    "        data.target,\n",
    "    )\n",
    "\n",
    "    model_artifact.metadata[\"train_score\"] = float(score)\n",
    "    model_artifact.metadata[\"framework\"] = \"XGBoost\"\n",
    "    \n",
    "    model.save_model(model_artifact.path)"
   ]
  },
  {
   "cell_type": "markdown",
   "id": "f4e25258-b658-4406-b313-fffdde45677f",
   "metadata": {
    "jp-MarkdownHeadingCollapsed": true,
    "tags": []
   },
   "source": [
    "## Model Evaluation"
   ]
  },
  {
   "cell_type": "code",
   "execution_count": 8,
   "id": "6fbfe9a7-eb45-453b-b4bd-5be742c7779f",
   "metadata": {
    "tags": []
   },
   "outputs": [],
   "source": [
    "@component(\n",
    "    packages_to_install = [\n",
    "        \"pandas\",\n",
    "        \"scikit-learn\",\n",
    "        \"xgboost\"\n",
    "    ],\n",
    "    base_image=\"python:3.9.18-slim\"\n",
    ")\n",
    "def eval_model(\n",
    "    test_set: Input[Dataset],\n",
    "    xgb_model: Input[Model],\n",
    "    smetrics: Output[Metrics],  # Only output for simple metrics\n",
    "    metrics: Output[ClassificationMetrics]  # Only output for classification metrics\n",
    "):\n",
    "    from xgboost import XGBClassifier\n",
    "    import pandas as pd\n",
    "    from sklearn.metrics import confusion_matrix, classification_report\n",
    "\n",
    "    # Load the test dataset\n",
    "    data = pd.read_csv(test_set.path)\n",
    "\n",
    "    # Load the XGBoost model\n",
    "    model = XGBClassifier()\n",
    "    model.load_model(xgb_model.path)\n",
    "\n",
    "    # Calculate the accuracy of the model\n",
    "    accuracy = model.score(data.drop(columns=[\"target\"]), data[\"target\"])\n",
    "\n",
    "    # Log the accuracy in the metrics\n",
    "    smetrics.log_metric(\"accuracy\", float(accuracy))\n",
    "\n",
    "    # Optionally, store accuracy in model's metadata (if needed)\n",
    "    xgb_model.metadata[\"test_accuracy\"] = float(accuracy)\n",
    "    \n",
    "    # create confusion metrix and store in 'metrics' variable\n",
    "    predictions = model.predict(data.drop(columns=[\"target\"]))\n",
    "    cm = confusion_matrix(data.target, predictions)\n",
    "    metrics.log_confusion_matrix(\n",
    "        [\"malignant\", \"benign\"],\n",
    "        cm.tolist()\n",
    "    )\n"
   ]
  },
  {
   "cell_type": "code",
   "execution_count": 9,
   "id": "a70224b9-8e7c-4ad6-b27b-2ecb7d8fcb1e",
   "metadata": {
    "tags": []
   },
   "outputs": [],
   "source": [
    "@dsl.pipeline(\n",
    "    # Default pipeline root. You can override it when submitting the pipeline.\n",
    "    pipeline_root=config_pipeline_root,\n",
    "    # A name for the pipeline. Use to determine the pipeline Context.\n",
    "    name=file_pipeline_name,\n",
    ")\n",
    "def pipeline():\n",
    "    dataset_op = get_data()\n",
    "    train_op = train_xgb_model(dataset=dataset_op.outputs[\"dataset_train\"])\n",
    "    eval_op = eval_model(\n",
    "        test_set=dataset_op.outputs[\"dataset_test\"],\n",
    "        xgb_model=train_op.outputs[\"model_artifact\"]\n",
    "    )\n",
    "    \n",
    "compiler.Compiler().compile(pipeline_func=pipeline,\n",
    "        package_path=f\"{dir_compiled_pipeline}/{file_compiled_pipeline}\")"
   ]
  }
 ],
 "metadata": {
  "environment": {
   "kernel": "python3",
   "name": "tf2-gpu.2-6.m114",
   "type": "gcloud",
   "uri": "gcr.io/deeplearning-platform-release/tf2-gpu.2-6:m114"
  },
  "kernelspec": {
   "display_name": "Python 3",
   "language": "python",
   "name": "python3"
  },
  "language_info": {
   "codemirror_mode": {
    "name": "ipython",
    "version": 3
   },
   "file_extension": ".py",
   "mimetype": "text/x-python",
   "name": "python",
   "nbconvert_exporter": "python",
   "pygments_lexer": "ipython3",
   "version": "3.10.13"
  }
 },
 "nbformat": 4,
 "nbformat_minor": 5
}
